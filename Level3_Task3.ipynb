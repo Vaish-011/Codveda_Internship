{
 "cells": [
  {
   "cell_type": "markdown",
   "metadata": {},
   "source": [
    "Neural Networks with TensorFlow/Keras"
   ]
  },
  {
   "cell_type": "code",
   "execution_count": 31,
   "metadata": {},
   "outputs": [],
   "source": [
    "import tensorflow as tf\n",
    "from tensorflow import keras\n",
    "import matplotlib.pyplot as plt\n",
    "import numpy as np"
   ]
  },
  {
   "cell_type": "markdown",
   "metadata": {},
   "source": [
    "Load And Process Data"
   ]
  },
  {
   "cell_type": "code",
   "execution_count": 32,
   "metadata": {},
   "outputs": [],
   "source": [
    "mnist = keras.datasets.mnist\n",
    "(x_train, y_train), (x_test, y_test) = mnist.load_data()"
   ]
  },
  {
   "cell_type": "markdown",
   "metadata": {},
   "source": [
    "Normalize the images "
   ]
  },
  {
   "cell_type": "code",
   "execution_count": 33,
   "metadata": {},
   "outputs": [],
   "source": [
    "x_train = x_train.astype('float32')/255.0\n",
    "x_test = x_test.astype('float32')/255.0"
   ]
  },
  {
   "cell_type": "markdown",
   "metadata": {},
   "source": [
    "Flatten the images"
   ]
  },
  {
   "cell_type": "code",
   "execution_count": 34,
   "metadata": {},
   "outputs": [],
   "source": [
    "x_train = x_train.reshape(-1, 28 * 28)\n",
    "x_test = x_test.reshape(-1, 28 * 28)"
   ]
  },
  {
   "cell_type": "code",
   "execution_count": 35,
   "metadata": {},
   "outputs": [],
   "source": [
    "\n",
    "from tensorflow.keras.utils import to_categorical\n",
    "y_train = to_categorical(y_train, num_classes=10) #the length of the vector equals the number of classes\n",
    "y_test = to_categorical(y_test, num_classes=10)\n",
    "y_train = y_train.reshape(-1, 10)"
   ]
  },
  {
   "cell_type": "markdown",
   "metadata": {},
   "source": [
    " Define the neural network architecture"
   ]
  },
  {
   "cell_type": "code",
   "execution_count": 36,
   "metadata": {},
   "outputs": [],
   "source": [
    "from tensorflow.keras.models import Sequential\n",
    "from tensorflow.keras.layers import Dense, Dropout"
   ]
  },
  {
   "cell_type": "markdown",
   "metadata": {},
   "source": [
    "Define the Feed-Forward Neural Network"
   ]
  },
  {
   "cell_type": "code",
   "execution_count": 37,
   "metadata": {},
   "outputs": [],
   "source": [
    "FFNN = Sequential([\n",
    "    Dense(128, activation='relu', input_shape=(784,)),  # Input Layer\n",
    "    Dropout(0.2),  # Dropout for Regularization\n",
    "    Dense(64, activation='relu'),  # Hidden Layer\n",
    "    Dense(10, activation='softmax')  # Output Layer (10 classes)\n",
    "])"
   ]
  },
  {
   "cell_type": "markdown",
   "metadata": {},
   "source": [
    "Compile the model"
   ]
  },
  {
   "cell_type": "code",
   "execution_count": 38,
   "metadata": {},
   "outputs": [],
   "source": [
    "FFNN.compile(optimizer='adam',\n",
    "             loss='categorical_crossentropy',\n",
    "             metrics=['accuracy'])"
   ]
  },
  {
   "cell_type": "markdown",
   "metadata": {},
   "source": [
    "Train the model"
   ]
  },
  {
   "cell_type": "code",
   "execution_count": 39,
   "metadata": {},
   "outputs": [
    {
     "name": "stdout",
     "output_type": "stream",
     "text": [
      "Epoch 1/10\n",
      "1500/1500 - 7s - 5ms/step - accuracy: 0.9076 - loss: 0.3120 - val_accuracy: 0.9560 - val_loss: 0.1469\n",
      "Epoch 2/10\n",
      "1500/1500 - 6s - 4ms/step - accuracy: 0.9549 - loss: 0.1486 - val_accuracy: 0.9674 - val_loss: 0.1087\n",
      "Epoch 3/10\n",
      "1500/1500 - 7s - 4ms/step - accuracy: 0.9660 - loss: 0.1102 - val_accuracy: 0.9701 - val_loss: 0.1022\n",
      "Epoch 4/10\n",
      "1500/1500 - 6s - 4ms/step - accuracy: 0.9707 - loss: 0.0927 - val_accuracy: 0.9695 - val_loss: 0.0986\n",
      "Epoch 5/10\n",
      "1500/1500 - 7s - 4ms/step - accuracy: 0.9747 - loss: 0.0805 - val_accuracy: 0.9700 - val_loss: 0.1008\n",
      "Epoch 6/10\n",
      "1500/1500 - 6s - 4ms/step - accuracy: 0.9760 - loss: 0.0727 - val_accuracy: 0.9763 - val_loss: 0.0839\n",
      "Epoch 7/10\n",
      "1500/1500 - 6s - 4ms/step - accuracy: 0.9787 - loss: 0.0647 - val_accuracy: 0.9758 - val_loss: 0.0898\n",
      "Epoch 8/10\n",
      "1500/1500 - 6s - 4ms/step - accuracy: 0.9796 - loss: 0.0604 - val_accuracy: 0.9758 - val_loss: 0.0935\n",
      "Epoch 9/10\n",
      "1500/1500 - 6s - 4ms/step - accuracy: 0.9825 - loss: 0.0535 - val_accuracy: 0.9755 - val_loss: 0.0912\n",
      "Epoch 10/10\n",
      "1500/1500 - 6s - 4ms/step - accuracy: 0.9831 - loss: 0.0490 - val_accuracy: 0.9765 - val_loss: 0.0945\n"
     ]
    }
   ],
   "source": [
    "model = FFNN.fit(\n",
    "    x_train, y_train,\n",
    "    validation_split=0.2,\n",
    "    epochs=10,\n",
    "    batch_size=32,\n",
    "    verbose=2\n",
    ")"
   ]
  },
  {
   "cell_type": "code",
   "execution_count": 40,
   "metadata": {},
   "outputs": [
    {
     "name": "stdout",
     "output_type": "stream",
     "text": [
      "313/313 - 1s - 2ms/step - accuracy: 0.9772 - loss: 0.0865\n",
      "\n",
      "Test Accuracy: 0.9772\n"
     ]
    }
   ],
   "source": [
    "test_loss, test_acc = FFNN.evaluate(x_test, y_test, verbose=2)\n",
    "print(f\"\\nTest Accuracy: {test_acc:.4f}\")"
   ]
  },
  {
   "cell_type": "code",
   "execution_count": 41,
   "metadata": {},
   "outputs": [
    {
     "data": {
      "image/png": "[encoded data removed]",
      "text/plain": [
       "<Figure size 640x480 with 1 Axes>"
      ]
     },
     "metadata": {},
     "output_type": "display_data"
    }
   ],
   "source": [
    "plt.plot(model.history['loss'], label='Training Loss')\n",
    "plt.plot(model.history['val_loss'], label='Validation Loss')\n",
    "plt.xlabel('Epochs')\n",
    "plt.ylabel('Loss')\n",
    "plt.legend()\n",
    "plt.title('Training vs Validation Loss')\n",
    "plt.show()"
   ]
  }
 ],
 "metadata": {
  "kernelspec": {
   "display_name": "Python 3",
   "language": "python",
   "name": "python3"
  },
  "language_info": {
   "codemirror_mode": {
    "name": "ipython",
    "version": 3
   },
   "file_extension": ".py",
   "mimetype": "text/x-python",
   "name": "python",
   "nbconvert_exporter": "python",
   "pygments_lexer": "ipython3",
   "version": "3.11.5"
  }
 },
 "nbformat": 4,
 "nbformat_minor": 2
}
